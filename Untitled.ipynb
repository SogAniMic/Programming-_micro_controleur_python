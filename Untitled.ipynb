{
 "cells": [
  {
   "cell_type": "code",
   "execution_count": 1,
   "id": "3090ceb7",
   "metadata": {},
   "outputs": [
    {
     "ename": "ModuleNotFoundError",
     "evalue": "No module named 'machine'",
     "output_type": "error",
     "traceback": [
      "\u001b[0;31m---------------------------------------------------------------------------\u001b[0m",
      "\u001b[0;31mModuleNotFoundError\u001b[0m                       Traceback (most recent call last)",
      "\u001b[0;32m/tmp/ipykernel_17279/2596434632.py\u001b[0m in \u001b[0;36m<module>\u001b[0;34m\u001b[0m\n\u001b[0;32m----> 1\u001b[0;31m \u001b[0;32mimport\u001b[0m \u001b[0mmachine\u001b[0m\u001b[0;34m,\u001b[0m \u001b[0mtime\u001b[0m\u001b[0;34m\u001b[0m\u001b[0;34m\u001b[0m\u001b[0m\n\u001b[0m\u001b[1;32m      2\u001b[0m \u001b[0;32mfrom\u001b[0m \u001b[0mmachine\u001b[0m \u001b[0;32mimport\u001b[0m \u001b[0mPin\u001b[0m\u001b[0;34m\u001b[0m\u001b[0;34m\u001b[0m\u001b[0m\n\u001b[1;32m      3\u001b[0m \u001b[0;34m\u001b[0m\u001b[0m\n\u001b[1;32m      4\u001b[0m \u001b[0;32mclass\u001b[0m \u001b[0mHCSR04\u001b[0m\u001b[0;34m:\u001b[0m\u001b[0;34m\u001b[0m\u001b[0;34m\u001b[0m\u001b[0m\n\u001b[1;32m      5\u001b[0m     \"\"\"\n",
      "\u001b[0;31mModuleNotFoundError\u001b[0m: No module named 'machine'"
     ]
    }
   ],
   "source": [
    "import machine, time\n",
    "from machine import Pin\n",
    " \n",
    "class HCSR04:\n",
    "    \"\"\"\n",
    "    Driver to use the untrasonic sensor HC-SR04.\n",
    "    The sensor range is between 2cm and 4m.\n",
    "    The timeouts received listening to echo pin are converted to OSError('Out of range')\n",
    "    \"\"\"\n",
    "    # echo_timeout_us is based in chip range limit (400cm)\n",
    "    def __init__(self, trigger_pin, echo_pin, echo_timeout_us=500*2*30):\n",
    "        \"\"\"\n",
    "        trigger_pin: Output pin to send pulses\n",
    "        echo_pin: Readonly pin to measure the distance. The pin should be protected with 1k resistor\n",
    "        echo_timeout_us: Timeout in microseconds to listen to echo pin. \n",
    "        By default is based in sensor limit range (4m)\n",
    "        \"\"\"\n",
    "        self.echo_timeout_us = echo_timeout_us\n",
    "        # Init trigger pin (out)\n",
    "        self.trigger = Pin(trigger_pin, mode=Pin.OUT, pull=None)\n",
    "        self.trigger.value(0)\n",
    " \n",
    "        # Init echo pin (in)\n",
    "        self.echo = Pin(echo_pin, mode=Pin.IN, pull=None)\n",
    " \n",
    "    def _send_pulse_and_wait(self):\n",
    "        \"\"\"\n",
    "        Send the pulse to trigger and listen on echo pin.\n",
    "        We use the method `machine.time_pulse_us()` to get the microseconds until the echo is received.\n",
    "        \"\"\"\n",
    "        self.trigger.value(0) # Stabilize the sensor\n",
    "        time.sleep_us(5)\n",
    "        self.trigger.value(1)\n",
    "        # Send a 10us pulse.\n",
    "        time.sleep_us(10)\n",
    "        self.trigger.value(0)\n",
    "        try:\n",
    "            pulse_time = machine.time_pulse_us(self.echo, 1, self.echo_timeout_us)\n",
    "            return pulse_time\n",
    "        except OSError as ex:\n",
    "            if ex.args[0] == 110: # 110 = ETIMEDOUT\n",
    "                raise OSError('Out of range')\n",
    "            raise ex\n",
    " \n",
    "    def distance_mm(self):\n",
    "        \"\"\"\n",
    "        Get the distance in milimeters without floating point operations.\n",
    "        \"\"\"\n",
    "        pulse_time = self._send_pulse_and_wait()\n",
    " \n",
    "        # To calculate the distance we get the pulse_time and divide it by 2 \n",
    "        # (the pulse walk the distance twice) and by 29.1 becasue\n",
    "        # the sound speed on air (343.2 m/s), that It's equivalent to\n",
    "        # 0.34320 mm/us that is 1mm each 2.91us\n",
    "        # pulse_time // 2 // 2.91 -> pulse_time // 5.82 -> pulse_time * 100 // 582 \n",
    "        mm = pulse_time * 100 // 582\n",
    "        return mm\n",
    " \n",
    "    def distance_cm(self):\n",
    "        \"\"\"\n",
    "        Get the distance in centimeters with floating point operations.\n",
    "        It returns a float\n",
    "        \"\"\"\n",
    "        pulse_time = self._send_pulse_and_wait()\n",
    " \n",
    "        # To calculate the distance we get the pulse_time and divide it by 2 \n",
    "        # (the pulse walk the distance twice) and by 29.1 becasue\n",
    "        # the sound speed on air (343.2 m/s), that It's equivalent to\n",
    "        # 0.034320 cm/us that is 1cm each 29.1us\n",
    "        cms = (pulse_time / 2) / 29.1\n",
    "        return cms\n"
   ]
  },
  {
   "cell_type": "code",
   "execution_count": null,
   "id": "fa1527eb",
   "metadata": {},
   "outputs": [],
   "source": []
  }
 ],
 "metadata": {
  "kernelspec": {
   "display_name": "Python 3 (ipykernel)",
   "language": "python",
   "name": "python3"
  },
  "language_info": {
   "codemirror_mode": {
    "name": "ipython",
    "version": 3
   },
   "file_extension": ".py",
   "mimetype": "text/x-python",
   "name": "python",
   "nbconvert_exporter": "python",
   "pygments_lexer": "ipython3",
   "version": "3.9.13"
  }
 },
 "nbformat": 4,
 "nbformat_minor": 5
}
